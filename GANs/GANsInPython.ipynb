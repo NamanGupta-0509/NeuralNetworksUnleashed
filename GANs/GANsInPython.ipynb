{
  "nbformat": 4,
  "nbformat_minor": 0,
  "metadata": {
    "colab": {
      "provenance": [],
      "gpuType": "T4"
    },
    "kernelspec": {
      "name": "python3",
      "display_name": "Python 3"
    },
    "language_info": {
      "name": "python"
    },
    "accelerator": "GPU"
  },
  "cells": [
    {
      "cell_type": "markdown",
      "source": [
        "# GANs implementation in Python on MNIST Dataset"
      ],
      "metadata": {
        "id": "GXbGpE2m1rzH"
      }
    },
    {
      "cell_type": "code",
      "source": [
        "import pandas as pd\n",
        "import numpy as np\n",
        "import matplotlib.pyplot as plt\n",
        "import torch\n",
        "import torch.nn as nn\n",
        "import torch.optim as optim\n",
        "import torchvision\n",
        "import torchvision.datasets as datasets\n",
        "from torch.utils.data import DataLoader\n",
        "import torchvision.transforms as transforms"
      ],
      "metadata": {
        "id": "YUofZDumKuol"
      },
      "execution_count": null,
      "outputs": []
    },
    {
      "cell_type": "markdown",
      "source": [
        "## Defining the model structure"
      ],
      "metadata": {
        "id": "f_Hl9P7-12VI"
      }
    },
    {
      "cell_type": "code",
      "source": [
        "class Discriminator(nn.Module):\n",
        "    def __init__(self, in_features):\n",
        "        super().__init__()\n",
        "        self.disc = nn.Sequential(\n",
        "            nn.Linear(in_features, 128),\n",
        "            nn.LeakyReLU(0.01),\n",
        "            nn.Linear(128, 1),\n",
        "            nn.Sigmoid(),\n",
        "        )\n",
        "\n",
        "    def forward(self, x):\n",
        "        return self.disc(x)"
      ],
      "metadata": {
        "id": "QF8qSjmzKvga"
      },
      "execution_count": null,
      "outputs": []
    },
    {
      "cell_type": "code",
      "source": [
        "class Generator(nn.Module):\n",
        "    def __init__(self, z_dim, img_dim):\n",
        "        super().__init__()\n",
        "        self.gen = nn.Sequential(\n",
        "            nn.Linear(z_dim, 256),\n",
        "            nn.LeakyReLU(0.01),\n",
        "            nn.Linear(256, img_dim),\n",
        "            nn.Tanh(),  # normalize inputs to [-1, 1] so make outputs [-1, 1]\n",
        "        )\n",
        "\n",
        "    def forward(self, x):\n",
        "        return self.gen(x)"
      ],
      "metadata": {
        "id": "r3bmy9AIKy1V"
      },
      "execution_count": null,
      "outputs": []
    },
    {
      "cell_type": "code",
      "source": [
        "device = \"cuda\" if torch.cuda.is_available() else \"cpu\"\n",
        "lr = 0.0005\n",
        "z_dim = 64\n",
        "image_dim = 28 * 28 * 1  # 784\n",
        "batch_size = 32\n",
        "num_epochs = 100"
      ],
      "metadata": {
        "id": "JVFJenkAK2GV"
      },
      "execution_count": null,
      "outputs": []
    },
    {
      "cell_type": "code",
      "source": [
        "disc = Discriminator(image_dim).to(device)\n",
        "gen = Generator(z_dim, image_dim).to(device)\n",
        "fixed_noise = torch.randn((batch_size, z_dim)).to(device)\n",
        "transforms = transforms.Compose(\n",
        "    [\n",
        "        transforms.ToTensor(),\n",
        "        transforms.Normalize((0.5,), (0.5,)),\n",
        "    ]\n",
        ")"
      ],
      "metadata": {
        "id": "sre8i5ZIK4vb"
      },
      "execution_count": null,
      "outputs": []
    },
    {
      "cell_type": "code",
      "source": [
        "dataset = datasets.MNIST(root=\"dataset/\", transform=transforms, download=True)\n",
        "loader = DataLoader(dataset, batch_size=batch_size, shuffle=True)"
      ],
      "metadata": {
        "id": "7LQSrQRlAL3y"
      },
      "execution_count": null,
      "outputs": []
    },
    {
      "cell_type": "code",
      "source": [
        "opt_disc = optim.Adam(disc.parameters(), lr=lr)\n",
        "opt_gen = optim.Adam(gen.parameters(), lr=lr)\n",
        "criterion = nn.BCELoss()"
      ],
      "metadata": {
        "id": "CHYgY-SgAfaZ"
      },
      "execution_count": null,
      "outputs": []
    },
    {
      "cell_type": "markdown",
      "source": [
        "## Training the model"
      ],
      "metadata": {
        "id": "BBBn2sx21ywJ"
      }
    },
    {
      "cell_type": "code",
      "source": [
        "list_fake = []\n",
        "list_real = []\n",
        "\n",
        "for epoch in range(num_epochs):\n",
        "    for batch_idx, (real, _) in enumerate(loader):\n",
        "        real = real.view(-1, 784).to(device)\n",
        "        batch_size = real.shape[0]\n",
        "\n",
        "        ### Train Discriminator: max log(D(x)) + log(1 - D(G(z)))\n",
        "        noise = torch.randn(batch_size, z_dim).to(device)\n",
        "        fake = gen(noise)\n",
        "\n",
        "        disc_real = disc(real).view(-1)\n",
        "        lossD_real = criterion(disc_real, torch.ones_like(disc_real))\n",
        "        disc_fake = disc(fake).view(-1)\n",
        "        lossD_fake = criterion(disc_fake, torch.zeros_like(disc_fake))\n",
        "        lossD = (lossD_real + lossD_fake) / 2\n",
        "        disc.zero_grad()\n",
        "        lossD.backward(retain_graph=True)\n",
        "        opt_disc.step()\n",
        "\n",
        "        output = disc(fake).view(-1)\n",
        "        lossG = criterion(output, torch.ones_like(output))\n",
        "        gen.zero_grad()\n",
        "        lossG.backward()\n",
        "        opt_gen.step()\n",
        "\n",
        "        if batch_idx == 0:\n",
        "            print(\n",
        "                f\"Epoch [{epoch}/{num_epochs}] Batch {batch_idx}/{len(loader)} Loss D: {lossD:.4f}, loss G: {lossG:.4f}\"\n",
        "            )\n",
        "\n",
        "            with torch.no_grad():\n",
        "                fake = gen(fixed_noise).reshape(-1, 1, 28, 28)\n",
        "                data = real.reshape(-1, 1, 28, 28)\n",
        "                list_fake.append(fake)\n",
        "                list_real.append(data)\n"
      ],
      "metadata": {
        "colab": {
          "base_uri": "https://localhost:8080/"
        },
        "id": "11VXLXLiLD7B",
        "outputId": "aa0931b4-cff3-4f06-85a0-36d860e78601"
      },
      "execution_count": null,
      "outputs": [
        {
          "output_type": "stream",
          "name": "stdout",
          "text": [
            "Epoch [0/100] Batch 0/1875 Loss D: 0.6931, loss G: 0.7291\n",
            "Epoch [1/100] Batch 0/1875 Loss D: 0.3272, loss G: 1.5985\n",
            "Epoch [2/100] Batch 0/1875 Loss D: 0.4901, loss G: 1.4395\n",
            "Epoch [3/100] Batch 0/1875 Loss D: 0.7874, loss G: 1.1794\n",
            "Epoch [4/100] Batch 0/1875 Loss D: 0.6721, loss G: 0.8867\n",
            "Epoch [5/100] Batch 0/1875 Loss D: 0.7818, loss G: 0.8974\n",
            "Epoch [6/100] Batch 0/1875 Loss D: 0.4897, loss G: 1.4672\n",
            "Epoch [7/100] Batch 0/1875 Loss D: 0.5475, loss G: 1.0188\n",
            "Epoch [8/100] Batch 0/1875 Loss D: 0.3973, loss G: 1.6384\n",
            "Epoch [9/100] Batch 0/1875 Loss D: 0.7589, loss G: 1.1913\n",
            "Epoch [10/100] Batch 0/1875 Loss D: 0.4237, loss G: 1.4066\n",
            "Epoch [11/100] Batch 0/1875 Loss D: 0.7145, loss G: 1.1535\n",
            "Epoch [12/100] Batch 0/1875 Loss D: 0.7579, loss G: 1.3619\n",
            "Epoch [13/100] Batch 0/1875 Loss D: 0.7512, loss G: 1.4940\n",
            "Epoch [14/100] Batch 0/1875 Loss D: 0.7505, loss G: 0.9871\n",
            "Epoch [15/100] Batch 0/1875 Loss D: 0.5026, loss G: 1.3227\n",
            "Epoch [16/100] Batch 0/1875 Loss D: 0.5768, loss G: 1.1354\n",
            "Epoch [17/100] Batch 0/1875 Loss D: 0.5702, loss G: 1.4457\n",
            "Epoch [18/100] Batch 0/1875 Loss D: 0.6234, loss G: 1.1643\n",
            "Epoch [19/100] Batch 0/1875 Loss D: 0.4946, loss G: 1.2937\n",
            "Epoch [20/100] Batch 0/1875 Loss D: 0.4108, loss G: 1.9455\n",
            "Epoch [21/100] Batch 0/1875 Loss D: 0.5013, loss G: 1.5210\n",
            "Epoch [22/100] Batch 0/1875 Loss D: 0.5276, loss G: 1.3282\n",
            "Epoch [23/100] Batch 0/1875 Loss D: 0.5569, loss G: 1.2426\n",
            "Epoch [24/100] Batch 0/1875 Loss D: 0.6788, loss G: 1.1146\n",
            "Epoch [25/100] Batch 0/1875 Loss D: 0.7589, loss G: 0.8095\n",
            "Epoch [26/100] Batch 0/1875 Loss D: 0.5787, loss G: 1.2158\n",
            "Epoch [27/100] Batch 0/1875 Loss D: 0.4093, loss G: 1.3129\n",
            "Epoch [28/100] Batch 0/1875 Loss D: 0.6042, loss G: 1.2183\n",
            "Epoch [29/100] Batch 0/1875 Loss D: 0.6408, loss G: 1.2906\n",
            "Epoch [30/100] Batch 0/1875 Loss D: 0.6111, loss G: 1.0905\n",
            "Epoch [31/100] Batch 0/1875 Loss D: 0.6093, loss G: 1.1869\n",
            "Epoch [32/100] Batch 0/1875 Loss D: 0.4886, loss G: 1.4701\n",
            "Epoch [33/100] Batch 0/1875 Loss D: 0.5729, loss G: 1.3973\n",
            "Epoch [34/100] Batch 0/1875 Loss D: 0.6621, loss G: 1.0326\n",
            "Epoch [35/100] Batch 0/1875 Loss D: 0.5584, loss G: 1.1427\n",
            "Epoch [36/100] Batch 0/1875 Loss D: 0.6837, loss G: 1.0830\n",
            "Epoch [37/100] Batch 0/1875 Loss D: 0.6176, loss G: 1.0355\n",
            "Epoch [38/100] Batch 0/1875 Loss D: 0.5330, loss G: 1.0733\n",
            "Epoch [39/100] Batch 0/1875 Loss D: 0.6056, loss G: 1.2101\n",
            "Epoch [40/100] Batch 0/1875 Loss D: 0.5735, loss G: 1.0583\n",
            "Epoch [41/100] Batch 0/1875 Loss D: 0.4488, loss G: 1.3985\n",
            "Epoch [42/100] Batch 0/1875 Loss D: 0.6138, loss G: 1.1650\n",
            "Epoch [43/100] Batch 0/1875 Loss D: 0.6623, loss G: 1.2639\n",
            "Epoch [44/100] Batch 0/1875 Loss D: 0.6354, loss G: 1.2195\n",
            "Epoch [45/100] Batch 0/1875 Loss D: 0.6715, loss G: 1.0688\n",
            "Epoch [46/100] Batch 0/1875 Loss D: 0.5409, loss G: 1.2088\n",
            "Epoch [47/100] Batch 0/1875 Loss D: 0.5671, loss G: 1.0480\n",
            "Epoch [48/100] Batch 0/1875 Loss D: 0.6098, loss G: 1.0126\n",
            "Epoch [49/100] Batch 0/1875 Loss D: 0.5729, loss G: 1.1062\n",
            "Epoch [50/100] Batch 0/1875 Loss D: 0.7291, loss G: 0.8368\n",
            "Epoch [51/100] Batch 0/1875 Loss D: 0.6269, loss G: 1.0122\n",
            "Epoch [52/100] Batch 0/1875 Loss D: 0.5329, loss G: 1.2003\n",
            "Epoch [53/100] Batch 0/1875 Loss D: 0.5468, loss G: 1.2609\n",
            "Epoch [54/100] Batch 0/1875 Loss D: 0.7118, loss G: 0.9208\n",
            "Epoch [55/100] Batch 0/1875 Loss D: 0.6484, loss G: 1.3206\n",
            "Epoch [56/100] Batch 0/1875 Loss D: 0.6129, loss G: 1.0807\n",
            "Epoch [57/100] Batch 0/1875 Loss D: 0.5646, loss G: 1.5342\n",
            "Epoch [58/100] Batch 0/1875 Loss D: 0.6088, loss G: 0.9474\n",
            "Epoch [59/100] Batch 0/1875 Loss D: 0.5535, loss G: 0.9013\n",
            "Epoch [60/100] Batch 0/1875 Loss D: 0.6218, loss G: 1.1373\n",
            "Epoch [61/100] Batch 0/1875 Loss D: 0.6039, loss G: 1.3093\n",
            "Epoch [62/100] Batch 0/1875 Loss D: 0.5504, loss G: 1.3656\n",
            "Epoch [63/100] Batch 0/1875 Loss D: 0.5616, loss G: 1.1165\n",
            "Epoch [64/100] Batch 0/1875 Loss D: 0.5136, loss G: 1.4431\n",
            "Epoch [65/100] Batch 0/1875 Loss D: 0.6383, loss G: 1.1296\n",
            "Epoch [66/100] Batch 0/1875 Loss D: 0.6215, loss G: 1.1250\n",
            "Epoch [67/100] Batch 0/1875 Loss D: 0.5262, loss G: 1.2070\n",
            "Epoch [68/100] Batch 0/1875 Loss D: 0.6885, loss G: 1.2865\n",
            "Epoch [69/100] Batch 0/1875 Loss D: 0.4686, loss G: 1.5560\n",
            "Epoch [70/100] Batch 0/1875 Loss D: 0.5610, loss G: 1.3618\n",
            "Epoch [71/100] Batch 0/1875 Loss D: 0.4891, loss G: 1.4384\n",
            "Epoch [72/100] Batch 0/1875 Loss D: 0.5346, loss G: 1.4788\n",
            "Epoch [73/100] Batch 0/1875 Loss D: 0.5312, loss G: 1.3164\n",
            "Epoch [74/100] Batch 0/1875 Loss D: 0.5860, loss G: 1.3162\n",
            "Epoch [75/100] Batch 0/1875 Loss D: 0.4268, loss G: 1.7916\n",
            "Epoch [76/100] Batch 0/1875 Loss D: 0.5475, loss G: 1.2970\n",
            "Epoch [77/100] Batch 0/1875 Loss D: 0.5636, loss G: 1.3349\n",
            "Epoch [78/100] Batch 0/1875 Loss D: 0.5888, loss G: 1.0338\n",
            "Epoch [79/100] Batch 0/1875 Loss D: 0.5625, loss G: 1.2117\n",
            "Epoch [80/100] Batch 0/1875 Loss D: 0.6246, loss G: 1.3316\n",
            "Epoch [81/100] Batch 0/1875 Loss D: 0.5267, loss G: 1.1600\n",
            "Epoch [82/100] Batch 0/1875 Loss D: 0.4801, loss G: 1.3217\n",
            "Epoch [83/100] Batch 0/1875 Loss D: 0.5850, loss G: 1.1936\n",
            "Epoch [84/100] Batch 0/1875 Loss D: 0.5537, loss G: 1.2618\n",
            "Epoch [85/100] Batch 0/1875 Loss D: 0.4830, loss G: 1.2054\n",
            "Epoch [86/100] Batch 0/1875 Loss D: 0.5605, loss G: 1.2106\n",
            "Epoch [87/100] Batch 0/1875 Loss D: 0.5045, loss G: 1.1704\n",
            "Epoch [88/100] Batch 0/1875 Loss D: 0.5507, loss G: 1.2698\n",
            "Epoch [89/100] Batch 0/1875 Loss D: 0.6702, loss G: 1.2341\n",
            "Epoch [90/100] Batch 0/1875 Loss D: 0.4806, loss G: 1.2975\n",
            "Epoch [91/100] Batch 0/1875 Loss D: 0.5609, loss G: 1.2441\n",
            "Epoch [92/100] Batch 0/1875 Loss D: 0.5582, loss G: 1.6273\n",
            "Epoch [93/100] Batch 0/1875 Loss D: 0.5446, loss G: 1.3992\n",
            "Epoch [94/100] Batch 0/1875 Loss D: 0.5819, loss G: 0.9358\n",
            "Epoch [95/100] Batch 0/1875 Loss D: 0.5384, loss G: 1.2891\n",
            "Epoch [96/100] Batch 0/1875 Loss D: 0.5706, loss G: 1.1882\n",
            "Epoch [97/100] Batch 0/1875 Loss D: 0.4453, loss G: 1.6908\n",
            "Epoch [98/100] Batch 0/1875 Loss D: 0.5747, loss G: 1.2658\n",
            "Epoch [99/100] Batch 0/1875 Loss D: 0.4628, loss G: 1.2454\n"
          ]
        }
      ]
    },
    {
      "cell_type": "code",
      "source": [
        "img_real = real.detach().cpu().numpy()\n",
        "img_fake = fake.detach().cpu().numpy()"
      ],
      "metadata": {
        "id": "6Q1RGLebLnvA"
      },
      "execution_count": null,
      "outputs": []
    },
    {
      "cell_type": "markdown",
      "source": [
        "# Testing the outputs"
      ],
      "metadata": {
        "id": "klRa8YVq18oT"
      }
    },
    {
      "cell_type": "code",
      "source": [
        "print('Some Real Images')\n",
        "fig, axs = plt.subplots(2, 5, figsize=(10, 4))\n",
        "for i in range(10):\n",
        "    current_image_real = img_real[i].reshape((28, 28)) * 255\n",
        "    plt.gray()\n",
        "\n",
        "\n",
        "    row = i // 5\n",
        "    col = i % 5\n",
        "\n",
        "    axs[row, col].imshow(current_image_real, interpolation='nearest')\n",
        "\n",
        "plt.tight_layout()\n",
        "plt.show()\n",
        "\n",
        "\n"
      ],
      "metadata": {
        "colab": {
          "base_uri": "https://localhost:8080/",
          "height": 427
        },
        "id": "eA6Hg9xDIKUL",
        "outputId": "2b5b2465-039f-4913-850e-898f61028f8e"
      },
      "execution_count": null,
      "outputs": [
        {
          "output_type": "stream",
          "name": "stdout",
          "text": [
            "Some Real Images\n"
          ]
        },
        {
          "output_type": "display_data",
          "data": {
            "text/plain": [
              "<Figure size 1000x400 with 10 Axes>"
            ],
            "image/png": "[encoded data removed]"
          },
          "metadata": {}
        }
      ]
    },
    {
      "cell_type": "code",
      "source": [
        "print('Some Fake Images')\n",
        "fig, axs = plt.subplots(2, 5, figsize=(10, 4))\n",
        "for i in range(10):\n",
        "    current_image_fake = img_fake[i].reshape((28, 28)) * 255\n",
        "    plt.gray()\n",
        "\n",
        "    row = i // 5\n",
        "    col = i % 5\n",
        "\n",
        "    axs[row, col].imshow(current_image_fake, interpolation='nearest')\n",
        "\n",
        "plt.tight_layout()\n",
        "plt.show()"
      ],
      "metadata": {
        "colab": {
          "base_uri": "https://localhost:8080/",
          "height": 427
        },
        "id": "qpTfUf7aI8nY",
        "outputId": "c8179b4f-93fa-44f9-e1bf-76e95375f451"
      },
      "execution_count": null,
      "outputs": [
        {
          "output_type": "stream",
          "name": "stdout",
          "text": [
            "Some Fake Images\n"
          ]
        },
        {
          "output_type": "display_data",
          "data": {
            "text/plain": [
              "<Figure size 1000x400 with 10 Axes>"
            ],
            "image/png": "[encoded data removed]"
          },
          "metadata": {}
        }
      ]
    },
    {
      "cell_type": "code",
      "source": [],
      "metadata": {
        "id": "tyQIjgu4Wi-1"
      },
      "execution_count": null,
      "outputs": []
    }
  ]
}