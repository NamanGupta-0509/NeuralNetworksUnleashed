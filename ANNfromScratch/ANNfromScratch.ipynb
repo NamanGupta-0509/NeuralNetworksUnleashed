{
  "nbformat": 4,
  "nbformat_minor": 0,
  "metadata": {
    "colab": {
      "provenance": []
    },
    "kernelspec": {
      "name": "python3",
      "display_name": "Python 3"
    },
    "language_info": {
      "name": "python"
    }
  },
  "cells": [
    {
      "cell_type": "markdown",
      "source": [
        "# Neural Network Implementation from Scratch"
      ],
      "metadata": {
        "id": "wekn0GbGRNjK"
      }
    },
    {
      "cell_type": "markdown",
      "source": [
        "# IMPORTING DATA"
      ],
      "metadata": {
        "id": "dBSxh8jow8GL"
      }
    },
    {
      "cell_type": "code",
      "execution_count": null,
      "metadata": {
        "colab": {
          "base_uri": "https://localhost:8080/"
        },
        "id": "_Avr5aEBQHXg",
        "outputId": "cca49610-c582-4789-d947-d038cb7f14f8"
      },
      "outputs": [
        {
          "output_type": "stream",
          "name": "stdout",
          "text": [
            "Mounted at /content/drive\n"
          ]
        }
      ],
      "source": [
        "from google.colab import drive\n",
        "drive.mount('/content/drive')"
      ]
    },
    {
      "cell_type": "code",
      "source": [
        "!gdown --id 1Atr7OtXR2osUUcyOhlTB05n-dHmaZu0I   # mnist_test.csv\n",
        "!gdown --id 1rpOFGPZVrp1_05R7lSvijFnAOxaMFPxP    # mnist_train.csv"
      ],
      "metadata": {
        "colab": {
          "base_uri": "https://localhost:8080/"
        },
        "id": "yKdqodqdQI6f",
        "outputId": "98ca36af-8ca1-4060-cdb1-4dba3fad6b8d"
      },
      "execution_count": null,
      "outputs": [
        {
          "output_type": "stream",
          "name": "stdout",
          "text": [
            "/usr/local/lib/python3.10/dist-packages/gdown/cli.py:121: FutureWarning: Option `--id` was deprecated in version 4.3.1 and will be removed in 5.0. You don't need to pass it anymore to use a file ID.\n",
            "  warnings.warn(\n",
            "Downloading...\n",
            "From: https://drive.google.com/uc?id=1Atr7OtXR2osUUcyOhlTB05n-dHmaZu0I\n",
            "To: /content/mnist_test.csv\n",
            "100% 18.3M/18.3M [00:00<00:00, 87.8MB/s]\n",
            "/usr/local/lib/python3.10/dist-packages/gdown/cli.py:121: FutureWarning: Option `--id` was deprecated in version 4.3.1 and will be removed in 5.0. You don't need to pass it anymore to use a file ID.\n",
            "  warnings.warn(\n",
            "Downloading...\n",
            "From: https://drive.google.com/uc?id=1rpOFGPZVrp1_05R7lSvijFnAOxaMFPxP\n",
            "To: /content/mnist_train.csv\n",
            "100% 110M/110M [00:01<00:00, 72.2MB/s] \n"
          ]
        }
      ]
    },
    {
      "cell_type": "code",
      "source": [
        "import numpy as np\n",
        "import pandas as pd\n",
        "from matplotlib import pyplot as plt"
      ],
      "metadata": {
        "id": "7Dmlg_mdRFC8"
      },
      "execution_count": null,
      "outputs": []
    },
    {
      "cell_type": "markdown",
      "source": [
        "# BUILING LAYERS CLASS"
      ],
      "metadata": {
        "id": "MKm2xmiJRotg"
      }
    },
    {
      "cell_type": "code",
      "source": [
        "class Layer:\n",
        "    def __init__(self, nodes_in, nodes_out, activation):\n",
        "        self.nodes_in = nodes_in\n",
        "        self.nodes_out = nodes_out\n",
        "        self.activation = activation\n",
        "\n",
        "        self.prev_layer = None\n",
        "        self.next_layer = None\n",
        "        self.input = None\n",
        "        self.output = None\n",
        "\n",
        "        self.weights = np.random.rand(self.nodes_out, self.nodes_in) - 0.5\n",
        "        self.biases = np.random.rand(self.nodes_out, 1) - 0.5\n",
        "\n",
        "    def forward(self, input):\n",
        "        self.Z = self.weights.dot(input) + self.biases\n",
        "        self.A = activation_functions(self.Z, False, self.activation)\n",
        "        self.output = self.A\n",
        "\n",
        "        if self.next_layer: self.next_layer.input = self.output\n",
        "        return self.output\n",
        "\n",
        "    def backward(self, lr, output_error, one_hot_Y=None):\n",
        "        if self.next_layer == None:\n",
        "            output_error = self.A - one_hot_Y\n",
        "            dZ = output_error\n",
        "        else:\n",
        "            dA = self.next_layer.weights.T.dot(output_error)\n",
        "            dZ = dA * activation_functions(self.Z, True, self.activation)\n",
        "\n",
        "        # Finding gradient wrt weights and biases\n",
        "        self.dW = (1 / self.A.shape[1]) * dZ.dot(self.input.T)\n",
        "        self.db = (1 / self.A.shape[1]) * np.sum(dZ)\n",
        "\n",
        "        # Updating weights and biases\n",
        "        self.weights -= lr * self.dW\n",
        "        self.biases -= lr * self.db\n",
        "\n",
        "        return dZ\n",
        ""
      ],
      "metadata": {
        "id": "biviDlGORl75"
      },
      "execution_count": null,
      "outputs": []
    },
    {
      "cell_type": "markdown",
      "source": [
        "# BUILING NEURAL NETWORK CLASS"
      ],
      "metadata": {
        "id": "TGs17bcQRzE2"
      }
    },
    {
      "cell_type": "code",
      "source": [
        "class NeuralNetwork:\n",
        "    def __init__(self):\n",
        "        self.layers = []\n",
        "\n",
        "    def add_layer(self, layer):\n",
        "        self.layers.append(layer)\n",
        "        if len(self.layers) > 1:\n",
        "            self.layers[-2].next_layer = self.layers[-1]\n",
        "            self.layers[-1].prev_layer = self.layers[-2]\n",
        "\n",
        "    def forward_prop(self, input, i=0):\n",
        "        if self.layers[i].next_layer == None:\n",
        "            return self.layers[i].forward(input)\n",
        "        return self.forward_prop(self.layers[i].forward(input), i+1)\n",
        "\n",
        "    def backward_prop(self, lr, Y):\n",
        "        dZ = 0\n",
        "        for i in self.layers[::-1]:\n",
        "            if i.next_layer==None:\n",
        "                one_hot_Y = one_hot(Y)\n",
        "                dZ = i.backward(lr, dZ, one_hot_Y)\n",
        "            else:\n",
        "                dZ = i.backward(lr, dZ)\n",
        "\n",
        "    def get_predictions(self):\n",
        "        return np.argmax(self.layers[-1].A, 0)\n",
        "\n",
        "    def get_accuracy(self, predictions, Y):\n",
        "        return np.sum(predictions == Y) / Y.size\n",
        "\n",
        "    def gradient_descent(self, X, Y, lr, iterations):\n",
        "        for i in range(iterations):\n",
        "            A_final = self.forward_prop(X)\n",
        "            self.backward_prop(lr, Y)\n",
        "            if i % 10 == 0:\n",
        "                print(\"Iteration: \", i, end=', ')\n",
        "                predictions = self.get_predictions()\n",
        "                accuracy = self.get_accuracy(predictions, Y)\n",
        "                print('Accuracy: ', round(accuracy*100, 2), end='%\\n')\n",
        "\n",
        "    def make_predictions(self, X):\n",
        "        A_final = self.forward_prop(X)\n",
        "        predictions = self.get_predictions()\n",
        "        return predictions\n",
        "\n",
        "    def test_prediction(self, index, X, Y):\n",
        "        current_image = X[:, index, None]\n",
        "        prediction = self.make_predictions(X[:, index, None])\n",
        "        label = Y[:, index]\n",
        "        print(\"Prediction: \", prediction)\n",
        "        print(\"Label: \", label)\n",
        "\n",
        "        current_image = current_image.reshape((28, 28)) * 255\n",
        "        plt.gray()\n",
        "        plt.imshow(current_image, interpolation='nearest')\n",
        "        plt.show()\n",
        "\n",
        "        return int((prediction == label)[0])\n",
        "\n",
        "    def test_prediction_noprint(self, index, X, Y):\n",
        "        current_image = X[:, index, None]\n",
        "        prediction = self.make_predictions(X[:, index, None])\n",
        "        label = Y[:, index]\n",
        "        return int((prediction == label)[0])"
      ],
      "metadata": {
        "id": "2yttBdE8RvEs"
      },
      "execution_count": null,
      "outputs": []
    },
    {
      "cell_type": "markdown",
      "source": [
        "# ACTIVATION FUNCTIONS + OTHERS"
      ],
      "metadata": {
        "id": "V9nS_2BcR5To"
      }
    },
    {
      "cell_type": "code",
      "source": [
        "def activation_functions(Z, deriv, activation):\n",
        "    def relu(Z, deriv):\n",
        "        if deriv:\n",
        "            return Z > 0\n",
        "        return np.maximum(Z, 0)\n",
        "\n",
        "    def sigmoid(Z, deriv):\n",
        "        if deriv:\n",
        "            return sigmoid(Z, False) * (1 - sigmoid(Z, False))\n",
        "        return 1/(1+np.exp(-Z))\n",
        "\n",
        "    def softmax(Z, deriv):\n",
        "        exps = np.exp(Z - Z.max())\n",
        "        if deriv:\n",
        "             return softmax(Z, False) * (1 - softmax(Z, False))\n",
        "        return exps / np.sum(exps, axis=0)\n",
        "\n",
        "    activation_outputs = {\n",
        "        'relu': relu(Z, deriv),\n",
        "        'sigmoid': sigmoid(Z, deriv),\n",
        "        'softmax': softmax(Z, deriv)\n",
        "    }\n",
        "    return activation_outputs[f'{activation}']\n",
        "\n",
        "\n",
        "def one_hot(Y):\n",
        "    one_hot_Y = np.zeros((Y.size, Y.max() + 1))\n",
        "    one_hot_Y[np.arange(Y.size), Y] = 1\n",
        "    one_hot_Y = one_hot_Y.T\n",
        "    return one_hot_Y"
      ],
      "metadata": {
        "id": "Fak01EbrR2im"
      },
      "execution_count": null,
      "outputs": []
    },
    {
      "cell_type": "markdown",
      "source": [
        "# LOADING DATA"
      ],
      "metadata": {
        "id": "7MC-k3hwSArq"
      }
    },
    {
      "cell_type": "code",
      "source": [
        "def load_data(path):\n",
        "    data = pd.read_csv(f'{path}', delimiter=',')\n",
        "    data = np.array(data)\n",
        "\n",
        "    return (data[:, 1:] / 255.0).T, data[:, :1].T\n",
        "\n",
        "X_train, Y_train = load_data('/content/mnist_train.csv')\n",
        "n, m = X_train.shape\n",
        "\n",
        "print(X_train.shape)\n",
        "print(Y_train.shape)\n",
        "\n",
        "X_test, Y_test = load_data('/content/mnist_test.csv')\n",
        "print(X_test.shape)\n",
        "print(Y_test.shape)"
      ],
      "metadata": {
        "colab": {
          "base_uri": "https://localhost:8080/"
        },
        "id": "Vd2xp0r4R9Ia",
        "outputId": "074adde8-475b-4519-d5d7-250b4f1491d7"
      },
      "execution_count": null,
      "outputs": [
        {
          "output_type": "stream",
          "name": "stdout",
          "text": [
            "(784, 60000)\n",
            "(1, 60000)\n",
            "(784, 10000)\n",
            "(1, 10000)\n"
          ]
        }
      ]
    },
    {
      "cell_type": "markdown",
      "source": [
        "# BUILING ANN STRUCTURE"
      ],
      "metadata": {
        "id": "aYayPUYZSPos"
      }
    },
    {
      "cell_type": "code",
      "source": [
        "layer1 = Layer(784, 32, 'relu')\n",
        "layer2 = Layer(32, 10, 'softmax')\n",
        "layer1.input = X_train\n",
        "\n",
        "ann = NeuralNetwork()\n",
        "ann.add_layer(layer1)\n",
        "ann.add_layer(layer2)\n",
        "\n",
        "ann.forward_prop(X_train)\n",
        "ann.backward_prop(0.1, Y_train)\n",
        "\n",
        "ann.gradient_descent(X_train, Y_train, lr=0.1, iterations=500)"
      ],
      "metadata": {
        "colab": {
          "base_uri": "https://localhost:8080/"
        },
        "id": "K4lEjPLHSLR9",
        "outputId": "12ff1541-c354-4681-9046-69854901c9e3"
      },
      "execution_count": null,
      "outputs": [
        {
          "output_type": "stream",
          "name": "stdout",
          "text": [
            "Iteration:  0, Accuracy:  13.03%\n",
            "Iteration:  10, Accuracy:  36.42%\n",
            "Iteration:  20, Accuracy:  52.06%\n",
            "Iteration:  30, Accuracy:  59.94%\n",
            "Iteration:  40, Accuracy:  64.99%\n",
            "Iteration:  50, Accuracy:  68.64%\n",
            "Iteration:  60, Accuracy:  71.37%\n",
            "Iteration:  70, Accuracy:  73.36%\n",
            "Iteration:  80, Accuracy:  75.01%\n",
            "Iteration:  90, Accuracy:  76.4%\n",
            "Iteration:  100, Accuracy:  77.57%\n",
            "Iteration:  110, Accuracy:  78.57%\n",
            "Iteration:  120, Accuracy:  79.34%\n",
            "Iteration:  130, Accuracy:  80.06%\n",
            "Iteration:  140, Accuracy:  80.68%\n",
            "Iteration:  150, Accuracy:  81.28%\n",
            "Iteration:  160, Accuracy:  81.81%\n",
            "Iteration:  170, Accuracy:  82.28%\n",
            "Iteration:  180, Accuracy:  82.63%\n",
            "Iteration:  190, Accuracy:  83.04%\n",
            "Iteration:  200, Accuracy:  83.37%\n",
            "Iteration:  210, Accuracy:  83.69%\n",
            "Iteration:  220, Accuracy:  84.01%\n",
            "Iteration:  230, Accuracy:  84.28%\n",
            "Iteration:  240, Accuracy:  84.56%\n",
            "Iteration:  250, Accuracy:  84.8%\n",
            "Iteration:  260, Accuracy:  85.04%\n",
            "Iteration:  270, Accuracy:  85.26%\n",
            "Iteration:  280, Accuracy:  85.49%\n",
            "Iteration:  290, Accuracy:  85.69%\n",
            "Iteration:  300, Accuracy:  85.92%\n",
            "Iteration:  310, Accuracy:  86.08%\n",
            "Iteration:  320, Accuracy:  86.21%\n",
            "Iteration:  330, Accuracy:  86.4%\n",
            "Iteration:  340, Accuracy:  86.58%\n",
            "Iteration:  350, Accuracy:  86.76%\n",
            "Iteration:  360, Accuracy:  86.88%\n",
            "Iteration:  370, Accuracy:  87.0%\n",
            "Iteration:  380, Accuracy:  87.12%\n",
            "Iteration:  390, Accuracy:  87.24%\n",
            "Iteration:  400, Accuracy:  87.38%\n",
            "Iteration:  410, Accuracy:  87.48%\n",
            "Iteration:  420, Accuracy:  87.62%\n",
            "Iteration:  430, Accuracy:  87.74%\n",
            "Iteration:  440, Accuracy:  87.82%\n",
            "Iteration:  450, Accuracy:  87.89%\n",
            "Iteration:  460, Accuracy:  87.98%\n",
            "Iteration:  470, Accuracy:  88.07%\n",
            "Iteration:  480, Accuracy:  88.16%\n",
            "Iteration:  490, Accuracy:  88.26%\n"
          ]
        }
      ]
    },
    {
      "cell_type": "markdown",
      "source": [
        "Thus, our model is decently trained with accuracy ~ 88%"
      ],
      "metadata": {
        "id": "dqDloKh3Sl_n"
      }
    },
    {
      "cell_type": "markdown",
      "source": [],
      "metadata": {
        "id": "0CKG3hy5YiTx"
      }
    },
    {
      "cell_type": "markdown",
      "source": [
        "# TESTING THE MODEL"
      ],
      "metadata": {
        "id": "1WHbqa95SaJm"
      }
    },
    {
      "cell_type": "code",
      "source": [
        "dev_predictions = ann.make_predictions(X_test)\n",
        "accuracy = ann.get_accuracy(dev_predictions, Y_test)\n",
        "print('Accuracy: ', round(accuracy*100, 2), '%')"
      ],
      "metadata": {
        "colab": {
          "base_uri": "https://localhost:8080/"
        },
        "id": "rLoMH7yDSTJL",
        "outputId": "4db09ad6-79df-453a-d3bb-69cb1e04e94e"
      },
      "execution_count": null,
      "outputs": [
        {
          "output_type": "stream",
          "name": "stdout",
          "text": [
            "Accuracy:  88.71 %\n"
          ]
        }
      ]
    },
    {
      "cell_type": "markdown",
      "source": [
        "As the accuracy on testing data does not deviate much from accuracy on training data, we can say that the model is not over-fitted."
      ],
      "metadata": {
        "id": "2uFXTCHcSwNZ"
      }
    },
    {
      "cell_type": "code",
      "source": [
        "# Some Predictions VS Labels\n",
        "import random\n",
        "for i in random.sample(range(1, 10000), 5):\n",
        "    ann.test_prediction(i, X_test, Y_test)"
      ],
      "metadata": {
        "colab": {
          "base_uri": "https://localhost:8080/",
          "height": 1000
        },
        "id": "U0XpRJduSf2u",
        "outputId": "188c35b6-74cf-4717-84ed-742011f7b1ef"
      },
      "execution_count": null,
      "outputs": [
        {
          "output_type": "stream",
          "name": "stdout",
          "text": [
            "Prediction:  [8]\n",
            "Label:  [8]\n"
          ]
        },
        {
          "output_type": "display_data",
          "data": {
            "text/plain": [
              "<Figure size 640x480 with 1 Axes>"
            ],
            "image/png": "[encoded data removed]"
          },
          "metadata": {}
        },
        {
          "output_type": "stream",
          "name": "stdout",
          "text": [
            "Prediction:  [2]\n",
            "Label:  [2]\n"
          ]
        },
        {
          "output_type": "display_data",
          "data": {
            "text/plain": [
              "<Figure size 640x480 with 1 Axes>"
            ],
            "image/png": "[encoded data removed]"
          },
          "metadata": {}
        },
        {
          "output_type": "stream",
          "name": "stdout",
          "text": [
            "Prediction:  [5]\n",
            "Label:  [8]\n"
          ]
        },
        {
          "output_type": "display_data",
          "data": {
            "text/plain": [
              "<Figure size 640x480 with 1 Axes>"
            ],
            "image/png": "[encoded data removed]"
          },
          "metadata": {}
        },
        {
          "output_type": "stream",
          "name": "stdout",
          "text": [
            "Prediction:  [0]\n",
            "Label:  [0]\n"
          ]
        },
        {
          "output_type": "display_data",
          "data": {
            "text/plain": [
              "<Figure size 640x480 with 1 Axes>"
            ],
            "image/png": "[encoded data removed]"
          },
          "metadata": {}
        },
        {
          "output_type": "stream",
          "name": "stdout",
          "text": [
            "Prediction:  [6]\n",
            "Label:  [6]\n"
          ]
        },
        {
          "output_type": "display_data",
          "data": {
            "text/plain": [
              "<Figure size 640x480 with 1 Axes>"
            ],
            "image/png": "[encoded data removed]"
          },
          "metadata": {}
        }
      ]
    },
    {
      "cell_type": "code",
      "source": [],
      "metadata": {
        "id": "RIJbQd2AUQZK"
      },
      "execution_count": null,
      "outputs": []
    }
  ]
}